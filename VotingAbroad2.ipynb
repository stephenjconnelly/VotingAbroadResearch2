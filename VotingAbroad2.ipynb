{
 "cells": [
  {
   "cell_type": "code",
   "execution_count": 2,
   "id": "c42f31ec",
   "metadata": {},
   "outputs": [],
   "source": [
    "import pandas as pd\n",
    "import numpy as np"
   ]
  },
  {
   "cell_type": "code",
   "execution_count": 3,
   "id": "c2ec29c1",
   "metadata": {},
   "outputs": [],
   "source": [
    "#READING DATAFRAMES FROM CSVs ---------------------------------------------------------------\n",
    "#reads EVRR dataset into pandas dataframe\n",
    "dfEVRR = pd.read_csv('/Users/danielaconnelly/Desktop/votingAbroad/EVRR_Dataset.csv')\n",
    "\n",
    "#reads coverage dataset into pandas dataframe\n",
    "dfCoverage = pd.read_csv('/Users/danielaconnelly/Desktop/votingAbroad/coverage - Sheet1.csv')\n",
    "#--------------------------------------------------------------------------------------------\n",
    "\n",
    "#makes the Year column and Country column equivalent in both EVRR and Coverage\n",
    "dfEVRR = dfEVRR.rename(columns={\"year\":\"Year\"})\n",
    "dfEVRR = dfEVRR.rename(columns={\"country\":\"Country\"})\n",
    "#-------------------------------------------------------------------------------------------\n",
    "\n",
    "#renames rogue country in EVRR names as equivalent to ones in Coverage---\n",
    "dfEVRR= dfEVRR.replace('Saint Kitts & Nevis', 'Saint Kitts and Nevis')\n",
    "dfEVRR= dfEVRR.replace('USA', 'United States of America')\n",
    "dfEVRR= dfEVRR.replace('Bosnia and Herzegovina', 'Bosnia & Herzegovina')\n",
    "dfCoverage= dfCoverage.replace('Ukrain', 'Ukraine')\n",
    "#------------------------------------------------------------------------\n",
    "\n",
    "#MERGING EVRR dataset into Coverage dataset------------------------------------------------\n",
    "dfCoverage = pd.merge(dfCoverage,dfEVRR, on=['Year', 'Country'], how=\"left\")\n",
    "#------------------------------------------------------------------------------------------\n",
    "\n",
    "#EXPORTS DATAFRAME TO CSV----------------------------\n",
    "dfCoverage.to_csv('Summary_Data_Wellman.csv', index=False)\n",
    "#----------------------------------------------------\n",
    "\n",
    "# Print the merged dataset---------\n",
    "#print(dfCoverage)\n",
    "#----------------------------------"
   ]
  }
 ],
 "metadata": {
  "kernelspec": {
   "display_name": "Python 3 (ipykernel)",
   "language": "python",
   "name": "python3"
  },
  "language_info": {
   "codemirror_mode": {
    "name": "ipython",
    "version": 3
   },
   "file_extension": ".py",
   "mimetype": "text/x-python",
   "name": "python",
   "nbconvert_exporter": "python",
   "pygments_lexer": "ipython3",
   "version": "3.11.3"
  }
 },
 "nbformat": 4,
 "nbformat_minor": 5
}
